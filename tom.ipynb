{
 "cells": [
  {
   "cell_type": "markdown",
   "metadata": {},
   "source": [
    "# Setup"
   ]
  },
  {
   "cell_type": "code",
   "execution_count": 1,
   "metadata": {},
   "outputs": [],
   "source": [
    "import numpy as np\n",
    "import seaborn as sns\n",
    "import pandas as pd\n",
    "import matplotlib.pyplot as plt\n",
    "import csv\n",
    "\n",
    "import sqlalchemy\n",
    "from sqlalchemy.ext.automap import automap_base\n",
    "from sqlalchemy.orm import Session\n",
    "from sqlalchemy import create_engine, func, inspect\n",
    "import ipywidgets as widgets\n",
    "\n",
    "from flask import Flask, jsonify\n"
   ]
  },
  {
   "cell_type": "code",
   "execution_count": 2,
   "metadata": {},
   "outputs": [],
   "source": [
    "# create and save database\n",
    "#execfile(\"Setup and Organization/Database Setup.py\")"
   ]
  },
  {
   "cell_type": "code",
   "execution_count": 3,
   "metadata": {},
   "outputs": [],
   "source": [
    "# create engine to newly created database.sqlite\n",
    "engine = create_engine(\"sqlite:///Resources/database.sqlite\")\n",
    "conn=engine.connect()\n"
   ]
  },
  {
   "cell_type": "markdown",
   "metadata": {},
   "source": [
    "# Explore Database"
   ]
  },
  {
   "cell_type": "code",
   "execution_count": 4,
   "metadata": {},
   "outputs": [
    {
     "data": {
      "text/plain": [
       "['activity',\n",
       " 'bmi',\n",
       " 'gender',\n",
       " 'health',\n",
       " 'occupation',\n",
       " 'person',\n",
       " 'sleep',\n",
       " 'sleep_disorder']"
      ]
     },
     "execution_count": 4,
     "metadata": {},
     "output_type": "execute_result"
    }
   ],
   "source": [
    "# explore database\n",
    "inspector = inspect(engine)\n",
    "inspector.get_table_names()"
   ]
  },
  {
   "cell_type": "code",
   "execution_count": 5,
   "metadata": {},
   "outputs": [
    {
     "data": {
      "text/plain": [
       "[{'name': 'index',\n",
       "  'type': BIGINT(),\n",
       "  'nullable': True,\n",
       "  'default': None,\n",
       "  'primary_key': 0},\n",
       " {'name': 'id',\n",
       "  'type': BIGINT(),\n",
       "  'nullable': True,\n",
       "  'default': None,\n",
       "  'primary_key': 0},\n",
       " {'name': 'person_id',\n",
       "  'type': BIGINT(),\n",
       "  'nullable': True,\n",
       "  'default': None,\n",
       "  'primary_key': 0},\n",
       " {'name': 'activity_level',\n",
       "  'type': BIGINT(),\n",
       "  'nullable': True,\n",
       "  'default': None,\n",
       "  'primary_key': 0},\n",
       " {'name': 'daily_steps',\n",
       "  'type': BIGINT(),\n",
       "  'nullable': True,\n",
       "  'default': None,\n",
       "  'primary_key': 0}]"
      ]
     },
     "execution_count": 5,
     "metadata": {},
     "output_type": "execute_result"
    }
   ],
   "source": [
    "inspector.get_columns('activity')"
   ]
  },
  {
   "cell_type": "markdown",
   "metadata": {},
   "source": [
    "# Reflect and query data"
   ]
  },
  {
   "cell_type": "code",
   "execution_count": 6,
   "metadata": {},
   "outputs": [],
   "source": [
    "# reflect an existing database into a new model\n",
    "base= automap_base()\n",
    "# reflect the tables\n",
    "base.prepare(autoload_with=engine)"
   ]
  },
  {
   "cell_type": "code",
   "execution_count": 7,
   "metadata": {},
   "outputs": [
    {
     "data": {
      "text/plain": [
       "[]"
      ]
     },
     "execution_count": 7,
     "metadata": {},
     "output_type": "execute_result"
    }
   ],
   "source": [
    "base.classes.keys()"
   ]
  },
  {
   "cell_type": "code",
   "execution_count": 8,
   "metadata": {},
   "outputs": [
    {
     "data": {
      "text/plain": [
       "FacadeDict({'activity': Table('activity', MetaData(), Column('index', BIGINT(), table=<activity>), Column('id', BIGINT(), table=<activity>), Column('person_id', BIGINT(), table=<activity>), Column('activity_level', BIGINT(), table=<activity>), Column('daily_steps', BIGINT(), table=<activity>), schema=None), 'bmi': Table('bmi', MetaData(), Column('index', BIGINT(), table=<bmi>), Column('id', BIGINT(), table=<bmi>), Column('bmi_name', TEXT(), table=<bmi>), schema=None), 'gender': Table('gender', MetaData(), Column('index', BIGINT(), table=<gender>), Column('id', BIGINT(), table=<gender>), Column('gender_name', TEXT(), table=<gender>), schema=None), 'health': Table('health', MetaData(), Column('index', BIGINT(), table=<health>), Column('id', BIGINT(), table=<health>), Column('person_id', BIGINT(), table=<health>), Column('blood_pressure', TEXT(), table=<health>), Column('stress_level', BIGINT(), table=<health>), Column('heart_rate', BIGINT(), table=<health>), Column('systolic', BIGINT(), table=<health>), Column('diastolic', BIGINT(), table=<health>), Column('bmi_id', BIGINT(), table=<health>), schema=None), 'occupation': Table('occupation', MetaData(), Column('index', BIGINT(), table=<occupation>), Column('id', BIGINT(), table=<occupation>), Column('occupation_name', TEXT(), table=<occupation>), schema=None), 'person': Table('person', MetaData(), Column('index', BIGINT(), table=<person>), Column('id', BIGINT(), table=<person>), Column('gender_id', BIGINT(), table=<person>), Column('age', BIGINT(), table=<person>), Column('occupation_id', BIGINT(), table=<person>), schema=None), 'sleep': Table('sleep', MetaData(), Column('index', BIGINT(), table=<sleep>), Column('id', BIGINT(), table=<sleep>), Column('person_id', BIGINT(), table=<sleep>), Column('sleep_duration', FLOAT(), table=<sleep>), Column('sleep_quality', BIGINT(), table=<sleep>), Column('sleep_disorder_id', BIGINT(), table=<sleep>), schema=None), 'sleep_disorder': Table('sleep_disorder', MetaData(), Column('index', BIGINT(), table=<sleep_disorder>), Column('id', BIGINT(), table=<sleep_disorder>), Column('sleep_disorder_name', TEXT(), table=<sleep_disorder>), schema=None)})"
      ]
     },
     "execution_count": 8,
     "metadata": {},
     "output_type": "execute_result"
    }
   ],
   "source": [
    "base.metadata.tables"
   ]
  },
  {
   "cell_type": "code",
   "execution_count": 9,
   "metadata": {},
   "outputs": [],
   "source": [
    "for mappedclass in base.classes:\n",
    "    print(mappedclass)\n",
    "\n"
   ]
  },
  {
   "cell_type": "code",
   "execution_count": 10,
   "metadata": {},
   "outputs": [
    {
     "name": "stdout",
     "output_type": "stream",
     "text": [
      "activity\n",
      "bmi\n",
      "gender\n",
      "health\n",
      "occupation\n",
      "person\n",
      "sleep\n",
      "sleep_disorder\n"
     ]
    }
   ],
   "source": [
    "for mdtable in base.metadata.tables:\n",
    "    print(mdtable)"
   ]
  },
  {
   "cell_type": "code",
   "execution_count": 11,
   "metadata": {},
   "outputs": [
    {
     "data": {
      "text/html": [
       "<div>\n",
       "<style scoped>\n",
       "    .dataframe tbody tr th:only-of-type {\n",
       "        vertical-align: middle;\n",
       "    }\n",
       "\n",
       "    .dataframe tbody tr th {\n",
       "        vertical-align: top;\n",
       "    }\n",
       "\n",
       "    .dataframe thead th {\n",
       "        text-align: right;\n",
       "    }\n",
       "</style>\n",
       "<table border=\"1\" class=\"dataframe\">\n",
       "  <thead>\n",
       "    <tr style=\"text-align: right;\">\n",
       "      <th></th>\n",
       "      <th>index</th>\n",
       "      <th>id</th>\n",
       "      <th>gender_id</th>\n",
       "      <th>age</th>\n",
       "      <th>occupation_id</th>\n",
       "      <th>index</th>\n",
       "      <th>id</th>\n",
       "      <th>person_id</th>\n",
       "      <th>blood_pressure</th>\n",
       "      <th>stress_level</th>\n",
       "      <th>heart_rate</th>\n",
       "      <th>systolic</th>\n",
       "      <th>diastolic</th>\n",
       "      <th>bmi_id</th>\n",
       "      <th>index</th>\n",
       "      <th>id</th>\n",
       "      <th>bmi_name</th>\n",
       "      <th>index</th>\n",
       "      <th>id</th>\n",
       "      <th>gender_name</th>\n",
       "    </tr>\n",
       "  </thead>\n",
       "  <tbody>\n",
       "    <tr>\n",
       "      <th>0</th>\n",
       "      <td>0</td>\n",
       "      <td>1</td>\n",
       "      <td>0</td>\n",
       "      <td>27</td>\n",
       "      <td>0</td>\n",
       "      <td>0</td>\n",
       "      <td>0</td>\n",
       "      <td>1</td>\n",
       "      <td>126/83</td>\n",
       "      <td>6</td>\n",
       "      <td>77</td>\n",
       "      <td>126</td>\n",
       "      <td>83</td>\n",
       "      <td>0</td>\n",
       "      <td>0</td>\n",
       "      <td>0</td>\n",
       "      <td>Overweight</td>\n",
       "      <td>0</td>\n",
       "      <td>0</td>\n",
       "      <td>Male</td>\n",
       "    </tr>\n",
       "    <tr>\n",
       "      <th>1</th>\n",
       "      <td>1</td>\n",
       "      <td>2</td>\n",
       "      <td>0</td>\n",
       "      <td>28</td>\n",
       "      <td>1</td>\n",
       "      <td>1</td>\n",
       "      <td>1</td>\n",
       "      <td>2</td>\n",
       "      <td>125/80</td>\n",
       "      <td>8</td>\n",
       "      <td>75</td>\n",
       "      <td>125</td>\n",
       "      <td>80</td>\n",
       "      <td>1</td>\n",
       "      <td>1</td>\n",
       "      <td>1</td>\n",
       "      <td>Normal</td>\n",
       "      <td>0</td>\n",
       "      <td>0</td>\n",
       "      <td>Male</td>\n",
       "    </tr>\n",
       "    <tr>\n",
       "      <th>2</th>\n",
       "      <td>2</td>\n",
       "      <td>3</td>\n",
       "      <td>0</td>\n",
       "      <td>28</td>\n",
       "      <td>1</td>\n",
       "      <td>2</td>\n",
       "      <td>2</td>\n",
       "      <td>3</td>\n",
       "      <td>125/80</td>\n",
       "      <td>8</td>\n",
       "      <td>75</td>\n",
       "      <td>125</td>\n",
       "      <td>80</td>\n",
       "      <td>1</td>\n",
       "      <td>1</td>\n",
       "      <td>1</td>\n",
       "      <td>Normal</td>\n",
       "      <td>0</td>\n",
       "      <td>0</td>\n",
       "      <td>Male</td>\n",
       "    </tr>\n",
       "    <tr>\n",
       "      <th>3</th>\n",
       "      <td>3</td>\n",
       "      <td>4</td>\n",
       "      <td>0</td>\n",
       "      <td>28</td>\n",
       "      <td>2</td>\n",
       "      <td>3</td>\n",
       "      <td>3</td>\n",
       "      <td>4</td>\n",
       "      <td>140/90</td>\n",
       "      <td>8</td>\n",
       "      <td>85</td>\n",
       "      <td>140</td>\n",
       "      <td>90</td>\n",
       "      <td>2</td>\n",
       "      <td>2</td>\n",
       "      <td>2</td>\n",
       "      <td>Obese</td>\n",
       "      <td>0</td>\n",
       "      <td>0</td>\n",
       "      <td>Male</td>\n",
       "    </tr>\n",
       "    <tr>\n",
       "      <th>4</th>\n",
       "      <td>4</td>\n",
       "      <td>5</td>\n",
       "      <td>0</td>\n",
       "      <td>28</td>\n",
       "      <td>2</td>\n",
       "      <td>4</td>\n",
       "      <td>4</td>\n",
       "      <td>5</td>\n",
       "      <td>140/90</td>\n",
       "      <td>8</td>\n",
       "      <td>85</td>\n",
       "      <td>140</td>\n",
       "      <td>90</td>\n",
       "      <td>2</td>\n",
       "      <td>2</td>\n",
       "      <td>2</td>\n",
       "      <td>Obese</td>\n",
       "      <td>0</td>\n",
       "      <td>0</td>\n",
       "      <td>Male</td>\n",
       "    </tr>\n",
       "    <tr>\n",
       "      <th>...</th>\n",
       "      <td>...</td>\n",
       "      <td>...</td>\n",
       "      <td>...</td>\n",
       "      <td>...</td>\n",
       "      <td>...</td>\n",
       "      <td>...</td>\n",
       "      <td>...</td>\n",
       "      <td>...</td>\n",
       "      <td>...</td>\n",
       "      <td>...</td>\n",
       "      <td>...</td>\n",
       "      <td>...</td>\n",
       "      <td>...</td>\n",
       "      <td>...</td>\n",
       "      <td>...</td>\n",
       "      <td>...</td>\n",
       "      <td>...</td>\n",
       "      <td>...</td>\n",
       "      <td>...</td>\n",
       "      <td>...</td>\n",
       "    </tr>\n",
       "    <tr>\n",
       "      <th>369</th>\n",
       "      <td>369</td>\n",
       "      <td>370</td>\n",
       "      <td>1</td>\n",
       "      <td>59</td>\n",
       "      <td>4</td>\n",
       "      <td>369</td>\n",
       "      <td>369</td>\n",
       "      <td>370</td>\n",
       "      <td>140/95</td>\n",
       "      <td>3</td>\n",
       "      <td>68</td>\n",
       "      <td>140</td>\n",
       "      <td>95</td>\n",
       "      <td>0</td>\n",
       "      <td>0</td>\n",
       "      <td>0</td>\n",
       "      <td>Overweight</td>\n",
       "      <td>1</td>\n",
       "      <td>1</td>\n",
       "      <td>Female</td>\n",
       "    </tr>\n",
       "    <tr>\n",
       "      <th>370</th>\n",
       "      <td>370</td>\n",
       "      <td>371</td>\n",
       "      <td>1</td>\n",
       "      <td>59</td>\n",
       "      <td>4</td>\n",
       "      <td>370</td>\n",
       "      <td>370</td>\n",
       "      <td>371</td>\n",
       "      <td>140/95</td>\n",
       "      <td>3</td>\n",
       "      <td>68</td>\n",
       "      <td>140</td>\n",
       "      <td>95</td>\n",
       "      <td>0</td>\n",
       "      <td>0</td>\n",
       "      <td>0</td>\n",
       "      <td>Overweight</td>\n",
       "      <td>1</td>\n",
       "      <td>1</td>\n",
       "      <td>Female</td>\n",
       "    </tr>\n",
       "    <tr>\n",
       "      <th>371</th>\n",
       "      <td>371</td>\n",
       "      <td>372</td>\n",
       "      <td>1</td>\n",
       "      <td>59</td>\n",
       "      <td>4</td>\n",
       "      <td>371</td>\n",
       "      <td>371</td>\n",
       "      <td>372</td>\n",
       "      <td>140/95</td>\n",
       "      <td>3</td>\n",
       "      <td>68</td>\n",
       "      <td>140</td>\n",
       "      <td>95</td>\n",
       "      <td>0</td>\n",
       "      <td>0</td>\n",
       "      <td>0</td>\n",
       "      <td>Overweight</td>\n",
       "      <td>1</td>\n",
       "      <td>1</td>\n",
       "      <td>Female</td>\n",
       "    </tr>\n",
       "    <tr>\n",
       "      <th>372</th>\n",
       "      <td>372</td>\n",
       "      <td>373</td>\n",
       "      <td>1</td>\n",
       "      <td>59</td>\n",
       "      <td>4</td>\n",
       "      <td>372</td>\n",
       "      <td>372</td>\n",
       "      <td>373</td>\n",
       "      <td>140/95</td>\n",
       "      <td>3</td>\n",
       "      <td>68</td>\n",
       "      <td>140</td>\n",
       "      <td>95</td>\n",
       "      <td>0</td>\n",
       "      <td>0</td>\n",
       "      <td>0</td>\n",
       "      <td>Overweight</td>\n",
       "      <td>1</td>\n",
       "      <td>1</td>\n",
       "      <td>Female</td>\n",
       "    </tr>\n",
       "    <tr>\n",
       "      <th>373</th>\n",
       "      <td>373</td>\n",
       "      <td>374</td>\n",
       "      <td>1</td>\n",
       "      <td>59</td>\n",
       "      <td>4</td>\n",
       "      <td>373</td>\n",
       "      <td>373</td>\n",
       "      <td>374</td>\n",
       "      <td>140/95</td>\n",
       "      <td>3</td>\n",
       "      <td>68</td>\n",
       "      <td>140</td>\n",
       "      <td>95</td>\n",
       "      <td>0</td>\n",
       "      <td>0</td>\n",
       "      <td>0</td>\n",
       "      <td>Overweight</td>\n",
       "      <td>1</td>\n",
       "      <td>1</td>\n",
       "      <td>Female</td>\n",
       "    </tr>\n",
       "  </tbody>\n",
       "</table>\n",
       "<p>374 rows × 20 columns</p>\n",
       "</div>"
      ],
      "text/plain": [
       "     index   id  gender_id  age  occupation_id  index   id  person_id  \\\n",
       "0        0    1          0   27              0      0    0          1   \n",
       "1        1    2          0   28              1      1    1          2   \n",
       "2        2    3          0   28              1      2    2          3   \n",
       "3        3    4          0   28              2      3    3          4   \n",
       "4        4    5          0   28              2      4    4          5   \n",
       "..     ...  ...        ...  ...            ...    ...  ...        ...   \n",
       "369    369  370          1   59              4    369  369        370   \n",
       "370    370  371          1   59              4    370  370        371   \n",
       "371    371  372          1   59              4    371  371        372   \n",
       "372    372  373          1   59              4    372  372        373   \n",
       "373    373  374          1   59              4    373  373        374   \n",
       "\n",
       "    blood_pressure  stress_level  heart_rate  systolic  diastolic  bmi_id  \\\n",
       "0           126/83             6          77       126         83       0   \n",
       "1           125/80             8          75       125         80       1   \n",
       "2           125/80             8          75       125         80       1   \n",
       "3           140/90             8          85       140         90       2   \n",
       "4           140/90             8          85       140         90       2   \n",
       "..             ...           ...         ...       ...        ...     ...   \n",
       "369         140/95             3          68       140         95       0   \n",
       "370         140/95             3          68       140         95       0   \n",
       "371         140/95             3          68       140         95       0   \n",
       "372         140/95             3          68       140         95       0   \n",
       "373         140/95             3          68       140         95       0   \n",
       "\n",
       "     index  id    bmi_name  index  id gender_name  \n",
       "0        0   0  Overweight      0   0        Male  \n",
       "1        1   1      Normal      0   0        Male  \n",
       "2        1   1      Normal      0   0        Male  \n",
       "3        2   2       Obese      0   0        Male  \n",
       "4        2   2       Obese      0   0        Male  \n",
       "..     ...  ..         ...    ...  ..         ...  \n",
       "369      0   0  Overweight      1   1      Female  \n",
       "370      0   0  Overweight      1   1      Female  \n",
       "371      0   0  Overweight      1   1      Female  \n",
       "372      0   0  Overweight      1   1      Female  \n",
       "373      0   0  Overweight      1   1      Female  \n",
       "\n",
       "[374 rows x 20 columns]"
      ]
     },
     "execution_count": 11,
     "metadata": {},
     "output_type": "execute_result"
    }
   ],
   "source": [
    "health_metrics = pd.read_sql(f'select * from person as p \\\n",
    "                             JOIN health as h on p.id = h.person_id \\\n",
    "                             JOIN bmi on h.bmi_id = bmi.id \\\n",
    "                             JOIN gender as g on p.gender_id = g.id', conn)\n",
    "health_metrics"
   ]
  },
  {
   "cell_type": "code",
   "execution_count": 12,
   "metadata": {},
   "outputs": [
    {
     "data": {
      "text/html": [
       "<div>\n",
       "<style scoped>\n",
       "    .dataframe tbody tr th:only-of-type {\n",
       "        vertical-align: middle;\n",
       "    }\n",
       "\n",
       "    .dataframe tbody tr th {\n",
       "        vertical-align: top;\n",
       "    }\n",
       "\n",
       "    .dataframe thead th {\n",
       "        text-align: right;\n",
       "    }\n",
       "</style>\n",
       "<table border=\"1\" class=\"dataframe\">\n",
       "  <thead>\n",
       "    <tr style=\"text-align: right;\">\n",
       "      <th></th>\n",
       "      <th>person_id</th>\n",
       "      <th>heart_rate</th>\n",
       "      <th>systolic</th>\n",
       "      <th>diastolic</th>\n",
       "      <th>gender_name</th>\n",
       "    </tr>\n",
       "  </thead>\n",
       "  <tbody>\n",
       "    <tr>\n",
       "      <th>0</th>\n",
       "      <td>1</td>\n",
       "      <td>77</td>\n",
       "      <td>126</td>\n",
       "      <td>83</td>\n",
       "      <td>Male</td>\n",
       "    </tr>\n",
       "    <tr>\n",
       "      <th>1</th>\n",
       "      <td>2</td>\n",
       "      <td>75</td>\n",
       "      <td>125</td>\n",
       "      <td>80</td>\n",
       "      <td>Male</td>\n",
       "    </tr>\n",
       "    <tr>\n",
       "      <th>2</th>\n",
       "      <td>3</td>\n",
       "      <td>75</td>\n",
       "      <td>125</td>\n",
       "      <td>80</td>\n",
       "      <td>Male</td>\n",
       "    </tr>\n",
       "    <tr>\n",
       "      <th>3</th>\n",
       "      <td>4</td>\n",
       "      <td>85</td>\n",
       "      <td>140</td>\n",
       "      <td>90</td>\n",
       "      <td>Male</td>\n",
       "    </tr>\n",
       "    <tr>\n",
       "      <th>4</th>\n",
       "      <td>5</td>\n",
       "      <td>85</td>\n",
       "      <td>140</td>\n",
       "      <td>90</td>\n",
       "      <td>Male</td>\n",
       "    </tr>\n",
       "    <tr>\n",
       "      <th>...</th>\n",
       "      <td>...</td>\n",
       "      <td>...</td>\n",
       "      <td>...</td>\n",
       "      <td>...</td>\n",
       "      <td>...</td>\n",
       "    </tr>\n",
       "    <tr>\n",
       "      <th>369</th>\n",
       "      <td>370</td>\n",
       "      <td>68</td>\n",
       "      <td>140</td>\n",
       "      <td>95</td>\n",
       "      <td>Female</td>\n",
       "    </tr>\n",
       "    <tr>\n",
       "      <th>370</th>\n",
       "      <td>371</td>\n",
       "      <td>68</td>\n",
       "      <td>140</td>\n",
       "      <td>95</td>\n",
       "      <td>Female</td>\n",
       "    </tr>\n",
       "    <tr>\n",
       "      <th>371</th>\n",
       "      <td>372</td>\n",
       "      <td>68</td>\n",
       "      <td>140</td>\n",
       "      <td>95</td>\n",
       "      <td>Female</td>\n",
       "    </tr>\n",
       "    <tr>\n",
       "      <th>372</th>\n",
       "      <td>373</td>\n",
       "      <td>68</td>\n",
       "      <td>140</td>\n",
       "      <td>95</td>\n",
       "      <td>Female</td>\n",
       "    </tr>\n",
       "    <tr>\n",
       "      <th>373</th>\n",
       "      <td>374</td>\n",
       "      <td>68</td>\n",
       "      <td>140</td>\n",
       "      <td>95</td>\n",
       "      <td>Female</td>\n",
       "    </tr>\n",
       "  </tbody>\n",
       "</table>\n",
       "<p>374 rows × 5 columns</p>\n",
       "</div>"
      ],
      "text/plain": [
       "     person_id  heart_rate  systolic  diastolic gender_name\n",
       "0            1          77       126         83        Male\n",
       "1            2          75       125         80        Male\n",
       "2            3          75       125         80        Male\n",
       "3            4          85       140         90        Male\n",
       "4            5          85       140         90        Male\n",
       "..         ...         ...       ...        ...         ...\n",
       "369        370          68       140         95      Female\n",
       "370        371          68       140         95      Female\n",
       "371        372          68       140         95      Female\n",
       "372        373          68       140         95      Female\n",
       "373        374          68       140         95      Female\n",
       "\n",
       "[374 rows x 5 columns]"
      ]
     },
     "execution_count": 12,
     "metadata": {},
     "output_type": "execute_result"
    }
   ],
   "source": [
    "health_metrics = health_metrics[['person_id','heart_rate','systolic','diastolic','gender_name']]\n",
    "health_metrics"
   ]
  },
  {
   "cell_type": "code",
   "execution_count": null,
   "metadata": {},
   "outputs": [],
   "source": [
    "h_diag = sns.PairGrid(data=health_metrics.loc[health_metrics['gender_name']==gender,['person_id','heart_rate','systolic','diastolic']])"
   ]
  },
  {
   "cell_type": "code",
   "execution_count": 26,
   "metadata": {},
   "outputs": [
    {
     "data": {
      "application/vnd.jupyter.widget-view+json": {
       "model_id": "dd838854b2fe493abe8c66d3620f5596",
       "version_major": 2,
       "version_minor": 0
      },
      "text/plain": [
       "Dropdown(description='Gender', options=('Male & Female', 'Male', 'Female'), value='Male & Female')"
      ]
     },
     "metadata": {},
     "output_type": "display_data"
    },
    {
     "data": {
      "application/vnd.jupyter.widget-view+json": {
       "model_id": "f29379f847eb436b9fd1c78bcc6ca822",
       "version_major": 2,
       "version_minor": 0
      },
      "text/plain": [
       "Output()"
      ]
     },
     "metadata": {},
     "output_type": "display_data"
    }
   ],
   "source": [
    "genderBox = widgets.Dropdown(\n",
    "    options = ['Male & Female','Male', 'Female'], #'Male & Female',\n",
    "    value = 'Male & Female',\n",
    "    description = 'Gender'\n",
    ")\n",
    "\n",
    "def health_plot(gender):\n",
    "    if (gender == 'Male & Female'): #total population\n",
    "        mask = (health_metrics['gender_name'].isin(['Male', 'Female']))\n",
    "    else: # male or female\n",
    "        mask = (health_metrics['gender_name'] == gender)\n",
    "    h_diag = sns.PairGrid(data=health_metrics.loc[mask,['person_id','heart_rate','systolic','diastolic']])\n",
    "    h_diag.map_diag(sns.histplot)\n",
    "    h_diag.map_offdiag(sns.scatterplot)\n",
    "    #plt.show()\n",
    "outh = widgets.interactive_output(health_plot, {'gender': genderBox})\n",
    "display(genderBox, outh)\n"
   ]
  },
  {
   "cell_type": "code",
   "execution_count": 14,
   "metadata": {},
   "outputs": [
    {
     "data": {
      "text/plain": [
       "'0.13.2'"
      ]
     },
     "execution_count": 14,
     "metadata": {},
     "output_type": "execute_result"
    }
   ],
   "source": [
    "sns.__version__"
   ]
  },
  {
   "cell_type": "code",
   "execution_count": null,
   "metadata": {},
   "outputs": [],
   "source": []
  }
 ],
 "metadata": {
  "kernelspec": {
   "display_name": "base",
   "language": "python",
   "name": "python3"
  },
  "language_info": {
   "codemirror_mode": {
    "name": "ipython",
    "version": 3
   },
   "file_extension": ".py",
   "mimetype": "text/x-python",
   "name": "python",
   "nbconvert_exporter": "python",
   "pygments_lexer": "ipython3",
   "version": "3.11.5"
  }
 },
 "nbformat": 4,
 "nbformat_minor": 2
}
